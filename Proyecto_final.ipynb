{
  "nbformat": 4,
  "nbformat_minor": 0,
  "metadata": {
    "colab": {
      "name": "Proyecto final.ipynb",
      "provenance": [],
      "authorship_tag": "ABX9TyOvKxEw/9Pe3g4ouiDhgyYi",
      "include_colab_link": true
    },
    "kernelspec": {
      "name": "python3",
      "display_name": "Python 3"
    },
    "language_info": {
      "name": "python"
    }
  },
  "cells": [
    {
      "cell_type": "markdown",
      "metadata": {
        "id": "view-in-github",
        "colab_type": "text"
      },
      "source": [
        "<a href=\"https://colab.research.google.com/github/tai117/Metodos-Numericos-DCI/blob/main/Proyecto_final.ipynb\" target=\"_parent\"><img src=\"https://colab.research.google.com/assets/colab-badge.svg\" alt=\"Open In Colab\"/></a>"
      ]
    },
    {
      "cell_type": "markdown",
      "source": [
        "# **Ecuación de Schrodinger dependiente del tiempo**\n",
        "$$i\\hbar\\frac{\\partial}{\\partial t} \\psi(x,t) = [\\frac{-\\hbar ^2}{2\\mu} \\nabla ^2 + V(x,t)]\\psi(x,t)$$\n",
        "tomando ħ = 1 y transformando la ecuacion a:\n",
        "$$i\\frac{\\partial}{\\partial t} \\psi(x,t) = -\\frac {1}{2} \\frac{\\partial^2}{\\partial x^2}\\psi(x,t) + V(x,t)\\psi(x,t)$$"
      ],
      "metadata": {
        "id": "1SgLkMIOhGPe"
      }
    },
    {
      "cell_type": "markdown",
      "source": [
        "# **Particula libre**\n",
        "## **Funcion de onda para esta particula (espacial)**\n",
        "$$\\psi(x) = \\sqrt{\\frac{2}{L}}sin(\\frac{n\\pi x}{L})$$\n",
        "$$V \\neq 0$$\n",
        "*n es el nivel de energia, como no podemos tener una longitud infinita acotamos la funcion con L*"
      ],
      "metadata": {
        "id": "XmfrKgL3lC7T"
      }
    },
    {
      "cell_type": "markdown",
      "source": [
        "# **Primera y segunda derivada de una funcion (Diferencias finitas)**\n",
        "*Utilizadno metodos de diferenciacion de alta exactitud definimos la primer derivada como:*\n",
        "$$f'(x) = \\frac{f(x+1) - f(x)}{\\Delta x}$$\n",
        "*De la misma manera definimos la segunda derivada como:*\n",
        "$$f''(x) = \\frac{f(x+1) - 2f(x) + f(x-1)}{\\Delta x ^2}$$"
      ],
      "metadata": {
        "id": "9yWZgGW1oxYD"
      }
    },
    {
      "cell_type": "markdown",
      "source": [
        "# **Aplicacion del metodo de diferencias finitas a la ecuación de Schrodinger**\n",
        "Una vez revisada la representación de la primer y segunda derivada, podemos aplicar este concepto a la ecuación de Schrodinder obteniendo lo siguiente:\n",
        "$$i\\frac{\\psi(x,t+1) - \\psi(x,t)}{\\Delta t} = -\\frac {1}{2} \\frac{\\psi(x+1,t) - 2\\psi(x,t) + \\psi(x-1,t)}{\\Delta x^2} + V(x,t)\\psi(x,t)$$\n",
        "Ahora podemos obtener la funcion para determinar como evoluciona la funcion de onda con el tiempo\n",
        "$$\\psi(x,t+1) = \\psi(x,t) + \\frac {i\\Delta t}{2\\Delta x^2} [\\psi(x+1,t) - 2\\psi(x,t) + \\psi(x-1,t)] - i\\Delta tV(x,t)\\psi(x,t)$$\n",
        "Conseguido esto, puede realizarse el codigo para obtener la evolucion del sistema"
      ],
      "metadata": {
        "id": "PCyeBpO3qSPq"
      }
    },
    {
      "cell_type": "code",
      "execution_count": 47,
      "metadata": {
        "colab": {
          "base_uri": "https://localhost:8080/",
          "height": 425
        },
        "id": "x96K6SP-o3Ut",
        "outputId": "becfe15a-7885-418c-eed6-efde11758658"
      },
      "outputs": [
        {
          "output_type": "stream",
          "name": "stderr",
          "text": [
            "No handles with labels found to put in legend.\n",
            "/usr/local/lib/python3.7/dist-packages/matplotlib/cbook/__init__.py:1317: ComplexWarning: Casting complex values to real discards the imaginary part\n",
            "  return np.asarray(x, float)\n"
          ]
        },
        {
          "output_type": "display_data",
          "data": {
            "text/plain": [
              "<Figure size 576x288 with 1 Axes>"
            ],
            "image/png": "[encoded data removed]"
          },
          "metadata": {
            "needs_background": "light"
          }
        }
      ],
      "source": [
        "import numpy as np\n",
        "import matplotlib.pyplot as plt\n",
        "from matplotlib import animation\n",
        "from matplotlib.animation import PillowWriter\n",
        "import numba\n",
        "from numba import jit\n",
        "\n",
        "Nx = 300\n",
        "Nt = 100000\n",
        "dx = 1/(Nx-1)\n",
        "dt = 1e-7\n",
        "L = 1\n",
        "n = 4\n",
        "x = np.linspace(0, L, Nx)\n",
        "psi0 = np.sqrt(2/L)*np.sin(n*np.pi*x/L)\n",
        "mu, sigma = L/2, L/20\n",
        "V = -1e4*np.exp(-(x-mu)**2/(2*sigma**2))\n",
        "psi = np.zeros([Nt,Nx])\n",
        "psi[0] = psi0\n",
        "\n",
        "@numba.jit(\"c16[:,:](c16[:,:])\", nopython=True, nogil=True)\n",
        "def compute_psi(psi):\n",
        "    for t in range(0, Nt-1):\n",
        "        for i in range(1, Nx-1):\n",
        "            psi[t+1][i] = psi[t][i] + 1j/2 * dt/dx**2 * (psi[t][i+1] - 2*psi[t][i] + psi[t][i-1]) - 1j*dt*V[i]*psi[t][i]\n",
        "        \n",
        "        normal = np.sum(np.absolute(psi[t+1])**2)*dx\n",
        "        for i in range(1, Nx-1):\n",
        "            psi[t+1][i] = psi[t+1][i]/normal\n",
        "        \n",
        "    return psi\n",
        "\n",
        "psi_m1 = compute_psi(psi.astype(complex))\n",
        "\n",
        "def animate(i):\n",
        "    #ln1.set_data(x, np.absolute(psi_m1[100*i])**2)\n",
        "    ln1.set_data(x, psi_m1[100*i])\n",
        "    time_text.set_text('$t=$'+'{:.1f}'.format(100*i*dt*1e4))\n",
        "    \n",
        "fig, ax = plt.subplots(1,1, figsize=(8,4))\n",
        "#ax.grid()\n",
        "ln1, = plt.plot([], [], 'r-', lw=2, markersize=8)\n",
        "time_text = ax.text(0.65, 16, '', fontsize=15,\n",
        "           bbox=dict(facecolor='white', edgecolor='black'))\n",
        "ax.set_ylim(-10/L,10/L)\n",
        "ax.set_xlim(0,L)\n",
        "ax.set_ylabel('$\\psi(x)$', fontsize=20)\n",
        "ax.set_xlabel('$x$', fontsize=20)\n",
        "ax.legend(loc='upper left')\n",
        "plt.tight_layout()\n",
        "ani = animation.FuncAnimation(fig, animate, frames=1000, interval=50)\n",
        "ani.save('wavefunction.gif',writer='pillow',fps=50,dpi=100)"
      ]
    },
    {
      "cell_type": "markdown",
      "source": [
        "# **Particula en una caja con paredes de potencial infinito**\n",
        "## **Funcion de onda para esta particula (espacial)**\n",
        "$$\\psi(x) = \\sqrt{\\frac{2}{L}}sin(\\frac{n\\pi x}{L})$$\n",
        "$$V = 0$$\n",
        "n es el nivel de energia"
      ],
      "metadata": {
        "id": "-AUR8lyNmyIm"
      }
    },
    {
      "cell_type": "markdown",
      "source": [
        "# **Ecuación para la caja con potencial V = 0**\n",
        "$$\\psi(x,t+1) = \\psi(x,t) + \\frac {i\\Delta t}{2\\Delta x^2} [\\psi(x+1,t) - 2\\psi(x,t) + \\psi(x-1,t)] $$"
      ],
      "metadata": {
        "id": "xi40--JhtmdQ"
      }
    },
    {
      "cell_type": "code",
      "source": [
        "import numpy as np\n",
        "import matplotlib.pyplot as plt\n",
        "from matplotlib import animation\n",
        "from matplotlib.animation import PillowWriter\n",
        "import numba\n",
        "from numba import jit\n",
        "\n",
        "Nx = 300\n",
        "Nt = 100000\n",
        "dx = 1/(Nx-1)\n",
        "dt = 1e-7\n",
        "L = 1\n",
        "n = 4\n",
        "x = np.linspace(0, L, Nx)\n",
        "psi0 = np.sqrt(2/L)*np.sin(n*np.pi*x/L)\n",
        "mu, sigma = L/2, L/20\n",
        "V = 0*x\n",
        "psi = np.zeros([Nt,Nx])\n",
        "psi[0] = psi0\n",
        "\n",
        "@numba.jit(\"c16[:,:](c16[:,:])\", nopython=True, nogil=True)\n",
        "def compute_psi(psi):\n",
        "    for t in range(0, Nt-1):\n",
        "        for i in range(1, Nx-1):\n",
        "            psi[t+1][i] = psi[t][i] + 1j/2 * dt/dx**2 * (psi[t][i+1] - 2*psi[t][i] + psi[t][i-1]) - 1j*dt*V[i]*psi[t][i]\n",
        "        \n",
        "        normal = np.sum(np.absolute(psi[t+1])**2)*dx\n",
        "        for i in range(1, Nx-1):\n",
        "            psi[t+1][i] = psi[t+1][i]/normal\n",
        "        \n",
        "    return psi\n",
        "\n",
        "psi_m1 = compute_psi(psi.astype(complex))\n",
        "\n",
        "def animate(i):\n",
        "    #ln1.set_data(x, np.absolute(psi_m1[100*i])**2)\n",
        "    ln1.set_data(x, psi_m1[100*i])\n",
        "    time_text.set_text('$t=$'+'{:.1f}'.format(100*i*dt*1e4))\n",
        "    \n",
        "fig, ax = plt.subplots(1,1, figsize=(8,4))\n",
        "#ax.grid()\n",
        "ln1, = plt.plot([], [], 'r-', lw=2, markersize=8)\n",
        "time_text = ax.text(0.65, 16, '', fontsize=15,\n",
        "           bbox=dict(facecolor='white', edgecolor='black'))\n",
        "ax.set_ylim(-10/L,10/L)\n",
        "ax.set_xlim(0,L)\n",
        "ax.set_ylabel('$\\psi(x)$', fontsize=20)\n",
        "ax.set_xlabel('$x$', fontsize=20)\n",
        "ax.legend(loc='upper left')\n",
        "plt.tight_layout()\n",
        "ani = animation.FuncAnimation(fig, animate, frames=1000, interval=50)\n",
        "ani.save('wavefunction_box.gif',writer='pillow',fps=50,dpi=100)"
      ],
      "metadata": {
        "colab": {
          "base_uri": "https://localhost:8080/",
          "height": 425
        },
        "id": "wkar4zeNnbok",
        "outputId": "99f816c5-ff84-4f91-eca4-a76bc1e638c1"
      },
      "execution_count": 46,
      "outputs": [
        {
          "output_type": "stream",
          "name": "stderr",
          "text": [
            "No handles with labels found to put in legend.\n",
            "/usr/local/lib/python3.7/dist-packages/matplotlib/cbook/__init__.py:1317: ComplexWarning: Casting complex values to real discards the imaginary part\n",
            "  return np.asarray(x, float)\n"
          ]
        },
        {
          "output_type": "display_data",
          "data": {
            "text/plain": [
              "<Figure size 576x288 with 1 Axes>"
            ],
            "image/png": "[encoded data removed]"
          },
          "metadata": {
            "needs_background": "light"
          }
        }
      ]
    }
  ]
}